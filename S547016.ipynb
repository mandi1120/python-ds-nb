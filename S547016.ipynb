{
 "cells": [
  {
   "cell_type": "markdown",
   "id": "d2bd33ff-4e6b-4c2f-83ec-8882e8020dfe",
   "metadata": {},
   "source": [
    "## Web Mining and Applied NLP (44-620)\n",
    "## Student Name: Amanda Hanway"
   ]
  },
  {
   "cell_type": "markdown",
   "id": "908382bb-e39e-4aed-afb4-e3cf138f3252",
   "metadata": {},
   "source": [
    "10. Create a new Jupyter Notebook (the name of the notebook should be your S number). Add a Markdown cell that contains your name. Add a Code cell and write Python that uses loops to draw the following pattern:\n",
    "\n",
    "```\n",
    "*      *\n",
    "**    **\n",
    "***  ***\n",
    "********\n",
    "```\n",
    "Make sure to add and submit both the new notebook and the changes to this notebook for this assignment."
   ]
  },
  {
   "cell_type": "code",
   "execution_count": 55,
   "id": "ceb9f243-eff1-442e-8ebb-de2c591a48fe",
   "metadata": {},
   "outputs": [
    {
     "name": "stdout",
     "output_type": "stream",
     "text": [
      "*      *\n",
      "**    **\n",
      "***  ***\n",
      "********\n"
     ]
    }
   ],
   "source": [
    "rows = 4\n",
    "for r in range(1,rows+1):     \n",
    "    print(\n",
    "        # print \"*\" for count of row and print space for remaining characters\n",
    "        '*' * r + ' ' * (rows - r)  \n",
    "        +  \n",
    "        # print space for remaining characters and print * for count of row \n",
    "        ' ' * (rows - r)+ '*' * r \n",
    "    )"
   ]
  },
  {
   "cell_type": "code",
   "execution_count": 56,
   "id": "a23456d5-9b57-447c-9d61-b1188a4a3daa",
   "metadata": {},
   "outputs": [
    {
     "name": "stdout",
     "output_type": "stream",
     "text": [
      "*      *\n",
      "**    **\n",
      "***  ***\n",
      "********\n"
     ]
    }
   ],
   "source": [
    "totalRows = 4\n",
    "row = 0    \n",
    "for x in range(totalRows):\n",
    "    row = row + 1\n",
    "    if row == 1:\n",
    "        print('*      *')\n",
    "    if row == 2:\n",
    "        print('**    **')\n",
    "    if row == 3:\n",
    "        print('***  ***')    \n",
    "    if row == 4:\n",
    "        print('********')   "
   ]
  }
 ],
 "metadata": {
  "kernelspec": {
   "display_name": "Python 3 (ipykernel)",
   "language": "python",
   "name": "python3"
  },
  "language_info": {
   "codemirror_mode": {
    "name": "ipython",
    "version": 3
   },
   "file_extension": ".py",
   "mimetype": "text/x-python",
   "name": "python",
   "nbconvert_exporter": "python",
   "pygments_lexer": "ipython3",
   "version": "3.9.7"
  }
 },
 "nbformat": 4,
 "nbformat_minor": 5
}
