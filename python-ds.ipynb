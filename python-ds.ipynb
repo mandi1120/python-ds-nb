{
 "cells": [
  {
   "cell_type": "markdown",
   "metadata": {},
   "source": [
    "# Web Mining and Applied NLP (44-620)\n",
    "\n",
    "## Python Notebooks, Basics, and Data Structures\n",
    "\n",
    "### Student Name: Amanda Hanway\n",
    "\n",
    "Perform the tasks described in the Markdown cells below.  When you have completed the assignment make sure your code cells have all been run (and have output beneath them) and ensure you have committed and pushed ALL of your changes to your assignment repository.\n",
    "\n",
    "Every question that requires you to write code will have a code cell underneath it; you may either write your entire solution in that cell or write it in a python file (`.py`), then import and run the appropriate code to answer the question.\n",
    "\n",
    "Do not use external modules (`math`, etc) for this assignment unless you are explicitly instructed to, though you may use built in python functions (`min`, `max`, etc) as you wish."
   ]
  },
  {
   "cell_type": "markdown",
   "metadata": {},
   "source": [
    "1. Modify the Markdown cell above to put your name after \"Student Name:\"; you will be expected to do this in all assignments presented in this format for this class."
   ]
  },
  {
   "cell_type": "markdown",
   "metadata": {},
   "source": [
    "2. Write code that divides any two numbers, stores the result in a variable, and prints the result with an appropriate label."
   ]
  },
  {
   "cell_type": "code",
   "execution_count": 3,
   "metadata": {},
   "outputs": [
    {
     "name": "stdout",
     "output_type": "stream",
     "text": [
      "10 / 2 = 5.0\n"
     ]
    }
   ],
   "source": [
    "n = 10/2\n",
    "print(\"10 / 2 =\", n)"
   ]
  },
  {
   "cell_type": "markdown",
   "metadata": {},
   "source": [
    "3. Using loops (and potentially conditionals), write Python code that prints the factorial of each integer from 1 through 10 (which you can store in a variable if you want). The factorial of an integer is the product of all of the integers of 1 through the number. Print the result with an appropriate label."
   ]
  },
  {
   "cell_type": "code",
   "execution_count": 61,
   "metadata": {},
   "outputs": [
    {
     "name": "stdout",
     "output_type": "stream",
     "text": [
      "[1, 2, 3, 4, 5, 6, 7, 8, 9, 10]\n",
      "Factorial 1 = 1\n",
      "Factorial 2 = 2\n",
      "Factorial 3 = 6\n",
      "Factorial 4 = 24\n",
      "Factorial 5 = 120\n",
      "Factorial 6 = 720\n",
      "Factorial 7 = 5040\n",
      "Factorial 8 = 40320\n",
      "Factorial 9 = 362880\n",
      "Factorial 10 = 3628800\n"
     ]
    }
   ],
   "source": [
    "numList = list(range(1,11))\n",
    "print(numList)\n",
    "\n",
    "# The factorial of an integer is the product of all of the integers of 1 through the number\n",
    "for i in numList:\n",
    "    f = 1\n",
    "    for n in range(1,i+1):\n",
    "        f = f * n\n",
    "    print(\"Factorial\", i, \"=\", f) "
   ]
  },
  {
   "cell_type": "markdown",
   "metadata": {},
   "source": [
    "4. Write a python function that takes a single parameter and calculates and returns the average (mean) of the values in the parameter (which you may assume is iterable).  Show that your function works by printing the result of calling the function on the list in the cell below."
   ]
  },
  {
   "cell_type": "code",
   "execution_count": 36,
   "metadata": {},
   "outputs": [
    {
     "name": "stdout",
     "output_type": "stream",
     "text": [
      "Average of list: 0.0\n"
     ]
    }
   ],
   "source": [
    "testlist = [1,-1,2,-2,3,-3,4,-4]\n",
    "\n",
    "def calculateAvg(numList):\n",
    "    total = 0\n",
    "    for n in numList:\n",
    "        total = total + n\n",
    "    average = total / len(numList)\n",
    "    return average\n",
    "\n",
    "print(\"Average of list:\", calculateAvg(testlist))"
   ]
  },
  {
   "cell_type": "markdown",
   "metadata": {},
   "source": [
    "5. Using your mean function above, write a function that calculates the variance of the list of numbers (see https://en.wikipedia.org/wiki/Variance for more information on the formula). In short:\n",
    "* subtract the mean of the elements in the list from every element in the list; store these values in a new list\n",
    "* square every element in the new list and sum the elements together\n",
    "* divide the resulting number by N (where N is the length of the original list)\n",
    "\n",
    "Show the result of calling your function in the lists in the code cell. You must use one or more list comprehensions or map/filter in your code.\n"
   ]
  },
  {
   "cell_type": "code",
   "execution_count": 45,
   "metadata": {},
   "outputs": [
    {
     "name": "stdout",
     "output_type": "stream",
     "text": [
      "Variance of list1: 1.13973309\n",
      "Variance of list2: 0.9257232841\n"
     ]
    }
   ],
   "source": [
    "list1 = [ 5.670e-1, -1.480e+0, -5.570e-1, -1.470e+0, 7.340e-1, 1.050e+0, 4.480e-1, 2.570e-1, -1.970e+0, -1.460e+0]\n",
    "list2 = [-1.780e+0, 2.640e-1, 1.160e+0, 9.080e-1, 1.780e+0, 1.080e+0, 1.050e+0, -4.630e-2, 1.520e+0, 5.350e-1]\n",
    "# the variances of both lists should be relatively close to 1 (off by less than .15)\n",
    "\n",
    "def calculateAvg(numList):\n",
    "    total = 0\n",
    "    for n in numList:\n",
    "        total = total + n\n",
    "    average = total / len(numList)\n",
    "    return average\n",
    "\n",
    "# subtract the mean of the elements in the list from every element in the list; store these values in a new list\n",
    "# list comprehension = [function(var) for var in iterable]\n",
    "subtractMean1 = [x - calculateAvg(list1) for x in list1]\n",
    "subtractMean2 = [x - calculateAvg(list2) for x in list2]\n",
    "\n",
    "# square every element in the new list and sum the elements together\n",
    "squares1 = sum(x * x for x in subtractMean1)\n",
    "squares2 = sum(x * x for x in subtractMean2)\n",
    "\n",
    "# divide the resulting number by N (where N is the length of the original list)\n",
    "var1 = squares1 / len(list1)\n",
    "var2 = squares2 / len(list2)\n",
    "print(\"Variance of list1:\", var1)\n",
    "print(\"Variance of list2:\", var2)"
   ]
  },
  {
   "cell_type": "markdown",
   "metadata": {},
   "source": [
    "6. Create a list with at least 15 elements in it. Use list slicing to print the following:\n",
    "* The first 5 elements of the list\n",
    "* The last 5 elements of the list\n",
    "* The list reversed (hint, show the entire list with a stride of -1)\n",
    "* Every second element in the list\n",
    "* Every third element in the list (stride of 3)"
   ]
  },
  {
   "cell_type": "code",
   "execution_count": 29,
   "metadata": {},
   "outputs": [
    {
     "name": "stdout",
     "output_type": "stream",
     "text": [
      "First five elements: ['first', 'second', '3rd', 4, 5]\n",
      "Last five elements: ['eleventh', 12, 'thirteenth', 'fourteenth', 15]\n",
      "Reversed: [15, 'fourteenth', 'thirteenth', 12, 'eleventh', 10, 'ninth', 'eighth', 7, 'sixth', 5, 4, '3rd', 'second', 'first']\n",
      "Every second element: ['first', '3rd', 5, 7, 'ninth', 'eleventh', 'thirteenth', 15]\n",
      "Every third element: ['first', 4, 7, 10, 'thirteenth']\n"
     ]
    }
   ],
   "source": [
    "list15 = ['first','second','3rd',4,5,'sixth',7,'eighth','ninth',10,'eleventh',12,'thirteenth','fourteenth',15]\n",
    "print(\"First five elements:\", list15[0:5])\n",
    "print(\"Last five elements:\", list15[-5:])\n",
    "print(\"Reversed:\", list15[::-1])\n",
    "print(\"Every second element:\", list15[::2])\n",
    "print(\"Every third element:\", list15[::3])"
   ]
  },
  {
   "cell_type": "markdown",
   "metadata": {},
   "source": [
    "7. Build a dictionary that contains the following information about this class (with appropriate names as keys):\n",
    "* The name\n",
    "* The course number\n",
    "* The semester/term in which you are taking this course\n",
    "* The number of credit hours this course counts for\n",
    "* A list of the course learning objectives\n",
    "\n",
    "The majority of this information can be found in the syllabus. Print the dictionary."
   ]
  },
  {
   "cell_type": "code",
   "execution_count": 56,
   "metadata": {},
   "outputs": [
    {
     "name": "stdout",
     "output_type": "stream",
     "text": [
      "{'CourseName': 'Web Mining & Applied Natural Language Processing', 'CourseNumber': '44-620', 'SemesterTerm': 'Fall 2022 - Block 2', 'CreditHours': 3, 'CourseLearningObjectives': ['1 - Manage Python libraries and packages.', '2 - Interact with hosted Version Control Systems (e.g. Git and GitHub).', '3 - Programmatically obtain and transform data from web-based APIs and HTML pages into a usable form.', '4 - Describe the steps in a basic Natural Language Processing (NLP) Pipeline.', '5 - Use preexisting tools and software libraries to perform some NLP, such as sentiment analysis.', '6 - Explain results and conclusions drawn from visualized information.']}\n"
     ]
    }
   ],
   "source": [
    "courseDict = {'CourseName': 'Web Mining & Applied Natural Language Processing', \n",
    "              'CourseNumber': '44-620', \n",
    "              'SemesterTerm': 'Fall 2022 - Block 2', \n",
    "              'CreditHours': 3, \n",
    "              'CourseLearningObjectives': [\n",
    "                  '1 - Manage Python libraries and packages.', \n",
    "                  '2 - Interact with hosted Version Control Systems (e.g. Git and GitHub).', \n",
    "                  '3 - Programmatically obtain and transform data from web-based APIs and HTML pages into a usable form.', \n",
    "                  '4 - Describe the steps in a basic Natural Language Processing (NLP) Pipeline.', \n",
    "                  '5 - Use preexisting tools and software libraries to perform some NLP, such as sentiment analysis.', \n",
    "                  '6 - Explain results and conclusions drawn from visualized information.'\n",
    "              ]}\n",
    "print(courseDict)"
   ]
  },
  {
   "cell_type": "markdown",
   "metadata": {},
   "source": [
    "8.  Given the dictionary defined in the code cell below, print the list of level 3 spells the character has."
   ]
  },
  {
   "cell_type": "code",
   "execution_count": 57,
   "metadata": {},
   "outputs": [
    {
     "name": "stdout",
     "output_type": "stream",
     "text": [
      "Level 3 spells: ['Mass Healing Word', 'Nondetection', 'Revivify', 'Feign Death', 'Speak with Dead']\n"
     ]
    }
   ],
   "source": [
    "player_character = {'name': 'Kitab',\n",
    "                   'class': [('Cleric: Knowledge', 7)],\n",
    "                   'spells': {'cantrip': ['Guidance', 'Light', 'Thaumaturgy', 'Toll the Dead', 'Word of Radiance'],\n",
    "                             'level 1': ['Command', 'Detect Magic', 'Healing Word', 'Identify', 'Sleep'],\n",
    "                             'level 2': ['Augury', 'Calm Emotions', 'Command', 'Invisibility', 'Lesser Restoration'],\n",
    "                             'level 3': ['Mass Healing Word', 'Nondetection', 'Revivify', 'Feign Death', 'Speak with Dead'],\n",
    "                             'level 4': ['Banishment', 'Confusion']}\n",
    "                   }\n",
    "print(\"Level 3 spells:\", player_character['spells']['level 3'])"
   ]
  },
  {
   "cell_type": "markdown",
   "metadata": {},
   "source": [
    "9. Write code to determine the number of unique elements in the list below.  You MUST use a set in finding your solution.  Print the number of unique values in the list with an appropriate label."
   ]
  },
  {
   "cell_type": "code",
   "execution_count": 49,
   "metadata": {},
   "outputs": [
    {
     "name": "stdout",
     "output_type": "stream",
     "text": [
      "{0, 1, 5, 6, 7, 8, 9, 10, 11, 12, 13, 15}\n",
      "Number of unique elements: 12\n"
     ]
    }
   ],
   "source": [
    "values = [10, 11, 10, 8, 1, 12, 0, 1, 6, 5, 5, 13, 6, 15, 0, 0, 1, 1, 9, 7]\n",
    "valueSet = set(values)\n",
    "print(valueSet)\n",
    "print(\"Number of unique elements:\", len(valueSet))"
   ]
  },
  {
   "cell_type": "markdown",
   "metadata": {},
   "source": [
    "10. Create a new Jupyter Notebook (the name of the notebook should be your S number). Add a Markdown cell that contains your name. Add a Code cell and write Python that uses loops to draw the following pattern:\n",
    "\n",
    "```\n",
    "*      *\n",
    "**    **\n",
    "***  ***\n",
    "********\n",
    "```\n",
    "Make sure to add and submit both the new notebook and the changes to this notebook for this assignment."
   ]
  },
  {
   "cell_type": "code",
   "execution_count": null,
   "metadata": {},
   "outputs": [],
   "source": []
  }
 ],
 "metadata": {
  "kernelspec": {
   "display_name": "Python 3 (ipykernel)",
   "language": "python",
   "name": "python3"
  },
  "language_info": {
   "codemirror_mode": {
    "name": "ipython",
    "version": 3
   },
   "file_extension": ".py",
   "mimetype": "text/x-python",
   "name": "python",
   "nbconvert_exporter": "python",
   "pygments_lexer": "ipython3",
   "version": "3.9.7"
  }
 },
 "nbformat": 4,
 "nbformat_minor": 4
}
